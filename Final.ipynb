{
 "cells": [
  {
   "cell_type": "code",
   "execution_count": 1,
   "id": "f8f37273",
   "metadata": {},
   "outputs": [],
   "source": [
    "import matplotlib.pyplot as plt\n",
    "from scipy.optimize import curve_fit, least_squares\n",
    "import numpy as np\n",
    "import math, random\n",
    "import matplotlib.pyplot as plt\n",
    "import nibabel as nib\n",
    "import os\n",
    "%matplotlib inline\n",
    "np.random.seed(0)"
   ]
  },
  {
   "cell_type": "code",
   "execution_count": 2,
   "id": "2b0bd994",
   "metadata": {},
   "outputs": [],
   "source": [
    "def objective (t,tmax, ymax,b):\n",
    "\n",
    "    return ymax*((t/tmax)**((b*tmax)))*np.exp((tmax-t)*b)"
   ]
  },
  {
   "cell_type": "code",
   "execution_count": 3,
   "id": "cbeb74c8",
   "metadata": {},
   "outputs": [],
   "source": [
    "def objective2(t,tmax, ymax, b, offset):\n",
    "    offInt = math.ceil(offset)\n",
    "    offArr = np.zeros(offInt).astype(dtype=np.float32)\n",
    "    offArr = np.append(offArr,ymax*((t[:(len(t)-offInt)]/tmax)**((b*tmax)))*np.exp((tmax-t[:(len(t)-offInt)])*b)).astype(np.float32)\n",
    "    return offArr"
   ]
  },
  {
   "cell_type": "code",
   "execution_count": 22,
   "id": "ecf7cb96",
   "metadata": {},
   "outputs": [],
   "source": [
    "def preprocess_data (fmri_file):\n",
    "    \n",
    "    img = nib.load(fmri_file)\n",
    "    hdr = img.header\n",
    "    img_data = img.get_fdata()\n",
    "    a, b, c, d = img_data.shape\n",
    "    product = a*b*c\n",
    "    arr = np.reshape(img_data, (product,d))\n",
    "    new_arr = []\n",
    "    for i in range(5):\n",
    "        new_arr= np.where(arr[:,i] != 0)\n",
    "\n",
    "    nonzero_time = arr[new_arr,:]\n",
    "\n",
    "    arr_nonzero_time = nonzero_time[0][:][:]\n",
    "\n",
    "    return arr, arr_nonzero_time, a, b, c, d, nonzero_time, new_arr, hdr"
   ]
  },
  {
   "cell_type": "code",
   "execution_count": null,
   "id": "64e6f82a",
   "metadata": {},
   "outputs": [],
   "source": []
  },
  {
   "cell_type": "code",
   "execution_count": 5,
   "id": "135b8673",
   "metadata": {},
   "outputs": [],
   "source": [
    "def get_mat(arr_nonzero_time, d):\n",
    "    size = len(arr_nonzero_time) \n",
    "    t = np.arange(1, d+1, 1)\n",
    "    mat = np.array([t]*size)\n",
    "    return mat"
   ]
  },
  {
   "cell_type": "code",
   "execution_count": 6,
   "id": "58a7f299",
   "metadata": {},
   "outputs": [],
   "source": [
    "def get_meann(arr_nonzero_time):\n",
    "    meann = []\n",
    "    for i in range(len(arr_nonzero_time)):\n",
    "        meann.append(np.mean(arr_nonzero_time[i,1:30]))\n",
    "        arr_nonzero_time[i,:] -= np.mean(arr_nonzero_time[i,1:30])\n",
    "    return meann"
   ]
  },
  {
   "cell_type": "code",
   "execution_count": 7,
   "id": "94c8581a",
   "metadata": {},
   "outputs": [],
   "source": [
    "from myscipy.scipy import optimize\n",
    "\n",
    "def step1(objective2, mat, arr_nonzero_time):\n",
    "\n",
    "    result2 = []\n",
    "    for i in range((len(arr_nonzero_time))):\n",
    "        popt, _ = optimize.curve_fit(objective2, mat[i], arr_nonzero_time[i],p0=[231,5,0.005,30],bounds = ((0,0,0,20),(450,1000,0.1,200)), maxfev=len(arr_nonzero_time))\n",
    "#         if i%1000 == 0:\n",
    "#             print(i,\"iterations done\")\n",
    "        result2.append(popt)\n",
    "    return result2\n"
   ]
  },
  {
   "cell_type": "code",
   "execution_count": 8,
   "id": "64fd0597",
   "metadata": {},
   "outputs": [],
   "source": [
    "def get_initial_fits(result2):\n",
    "    fits = []\n",
    "    for i in range(len(result2)):\n",
    "        fit = objective2(mat[i],*result2[i])\n",
    "        fits.append(fit)\n",
    "    return fits"
   ]
  },
  {
   "cell_type": "code",
   "execution_count": 9,
   "id": "d36f5c0c",
   "metadata": {},
   "outputs": [],
   "source": [
    "def get_initial_offsets(fits):\n",
    "    offsets = [0]*len(fits)\n",
    "    for i in range(len(fits)):\n",
    "        func = fits[i]\n",
    "        func = list(func)\n",
    "        for j in range(len(func)):\n",
    "            if func[j] > 0:\n",
    "                offsets[i] = func.index(func[j])\n",
    "                break\n",
    "    return offsets"
   ]
  },
  {
   "cell_type": "code",
   "execution_count": 10,
   "id": "56db1bf4",
   "metadata": {},
   "outputs": [],
   "source": [
    "def adjust_waveforms(arr_nonzero_time, offsets):\n",
    "    arr_nonzero_time2 = [0]*len(arr_nonzero_time)\n",
    "    for i in range(len(arr_nonzero_time)):\n",
    "        offset = np.zeros(offsets[i])\n",
    "        arr_nonzero_time2[i] = np.hstack((arr_nonzero_time[i,:(len(arr_nonzero_time[i])-offsets[i])], offset))\n",
    "    return arr_nonzero_time2"
   ]
  },
  {
   "cell_type": "code",
   "execution_count": 11,
   "id": "93fe1b62",
   "metadata": {},
   "outputs": [],
   "source": [
    "def create_new_mat(arr_nonzero_time, offsets):\n",
    "    size = len(arr_nonzero_time)\n",
    "    t = np.arange(offsets[i], d+1, 1)\n",
    "    mat_2 = np.array([t]*size)\n",
    "    return mat_2 "
   ]
  },
  {
   "cell_type": "code",
   "execution_count": 12,
   "id": "fc3e1cec",
   "metadata": {},
   "outputs": [],
   "source": [
    "from scipy.optimize import curve_fit as cf\n",
    "\n",
    "def step2(objective, mat, arr_nonzero_time2):\n",
    "    result1 = []\n",
    "    for i in range((len(arr_nonzero_time))):\n",
    "        popt, _ = cf(objective, mat[i], arr_nonzero_time2[i],p0=[231,5,0.005],bounds = ((0,0,0),(450,1000,0.1)), maxfev=len(arr_nonzero_time))\n",
    "#         if i%1000 == 0:\n",
    "#             print(i,\"iterations done\")\n",
    "        result1.append(popt)\n",
    "    return result1"
   ]
  },
  {
   "cell_type": "code",
   "execution_count": 13,
   "id": "98acc419",
   "metadata": {},
   "outputs": [],
   "source": [
    "def get_final_fits(result1, result2, objective):\n",
    "    newFits = []\n",
    "    for i in range(len(result2)):\n",
    "        tmax,ymax,b= result1[i]\n",
    "        fit = objective(mat[i],tmax,ymax,b)\n",
    "        newFits.append(fit)\n",
    "    return newFits"
   ]
  },
  {
   "cell_type": "code",
   "execution_count": 14,
   "id": "732ad66b",
   "metadata": {},
   "outputs": [],
   "source": [
    "def get_adjusted_offsets(newFits):\n",
    "    offsets = [0]*len(fits)\n",
    "    for i in range(len(fits)):\n",
    "        func = newFits[i]\n",
    "        func = list(func)\n",
    "        for j in range(len(func)):\n",
    "            if func[j] > 10:\n",
    "                offsets[i] = func.index(func[j])\n",
    "                break\n",
    "    return offsets"
   ]
  },
  {
   "cell_type": "code",
   "execution_count": 15,
   "id": "1a554893",
   "metadata": {},
   "outputs": [],
   "source": [
    "def calculate_residuals(newFits, arr_nonzero_time):\n",
    "    SSE = []\n",
    "    for i in range(len(arr_nonzero_time)):\n",
    "        loss = (newFits[i]-arr_nonzero_time[i])**2\n",
    "        SSE.append(loss)\n",
    "    return SSE"
   ]
  },
  {
   "cell_type": "code",
   "execution_count": 27,
   "id": "e9979b41",
   "metadata": {},
   "outputs": [],
   "source": [
    "def calculate_mean_residual(residuals, arr_nonzero_time):\n",
    "    mean_residuals = []\n",
    "    for i in range(len(arr_nonzero_time)):\n",
    "        mean_residual = mean(residuals[i])\n",
    "        mean_residuals.append(mean_residual)\n",
    "    return mean_residuals"
   ]
  },
  {
   "cell_type": "code",
   "execution_count": 28,
   "id": "9d74d7df",
   "metadata": {},
   "outputs": [],
   "source": [
    "def calculate_percentchange(ymax_list, meann):\n",
    "    percent_change = []\n",
    "    for i in range(len(ymax_list)):\n",
    "        change = ymax_list[i]/meann[i]\n",
    "        percent_change.append(change)\n",
    "    return percent_change\n",
    "        "
   ]
  },
  {
   "cell_type": "code",
   "execution_count": 33,
   "id": "44615abb",
   "metadata": {},
   "outputs": [],
   "source": [
    "def recreate_original_arrays(result1, offsets, arr, a, b, c, d, meann, newFits, residuals, nonzero_time, new_arr):\n",
    "    nonzero_time_copy = nonzero_time.copy()\n",
    "    tmaxx, ymaxx, bb = zip(*result1)\n",
    "    tmax_list = list(tmaxx)\n",
    "    ymax_list = list(ymaxx)\n",
    "    b_list = list(bb)\n",
    "\n",
    "    tmaxArr = np.zeros(len(arr))\n",
    "    ymaxArr = np.zeros(len(arr))\n",
    "    bArr = np.zeros(len(arr))\n",
    "\n",
    "    tmaxArr[new_arr] = tmax_list\n",
    "    ymaxArr[new_arr] = ymax_list\n",
    "    bArr[new_arr] = bb\n",
    "    \n",
    "    offsetArr = np.zeros(len(arr))\n",
    "    offsetArr[new_arr] = offsets\n",
    "    \n",
    "    meann = np.array(meann)\n",
    "    meanArr = np.zeros(len(arr))\n",
    "    meanArr[new_arr] = meann\n",
    "    \n",
    "    newFits = np.array(newFits).astype('int')\n",
    "    fitsArr = np.zeros(arr.shape)\n",
    "    nonzero_time[0][:][:] = newFits \n",
    "    fitsArr[new_arr,:]= nonzero_time \n",
    "    \n",
    "    residualsArr = np.zeros(arr.shape)\n",
    "    nonzero_time_copy[0][:][:] = residuals\n",
    "    residualsArr[new_arr,:] = nonzero_time_copy\n",
    "    \n",
    "    mean_residualArr = np.zeros(arr.shape)\n",
    "    mean_residuals = np.array(mean_residuals)\n",
    "    mean_residualArr[new_arr] = mean_residuals\n",
    "    \n",
    "    percentChangeArr = np.zeros(arr.shape)\n",
    "    percent_change = np.array(percent_change)\n",
    "    percentChangeArr[new_arr] = percent_change\n",
    "    \n",
    "    \n",
    "    meanFits = np.reshape(meanArr,(a,b,c))\n",
    "    tmaxFits = np.reshape(tmaxArr, (a,b,c))\n",
    "    ymaxFits = np.reshape(ymaxArr, (a,b,c))\n",
    "    bFits = np.reshape(bArr,(a,b,c))\n",
    "    offsetFits = np.reshape(offsetArr,(a,b,c))\n",
    "    newfits = np.reshape(fitsArr,(a,b,c,d))\n",
    "    residuals = np.reshape(residualsArr,(a,b,c,d))\n",
    "    \n",
    "    return meanFits, tmaxFits, ymaxFits, bFits, offsetFits, newfits, residuals, ymax_list"
   ]
  },
  {
   "cell_type": "code",
   "execution_count": 31,
   "id": "90a2bcfe",
   "metadata": {},
   "outputs": [],
   "source": [
    "def recreate_og_arrays(arr, a, b, c, d, mean_residuals, percent_change):\n",
    "    mean_residualArr = np.zeros(arr.shape)\n",
    "    mean_residuals = np.array(mean_residuals)\n",
    "    mean_residualArr[new_arr] = mean_residuals\n",
    "    \n",
    "    percentChangeArr = np.zeros(arr.shape)\n",
    "    percent_change = np.array(percent_change)\n",
    "    percentChangeArr[new_arr] = percent_change\n",
    "    \n",
    "    mean_residual = np.reshape(mean_residualArr,(a,b,c))\n",
    "    percentChange = np.reshape(percentChangeArr,(a,b,c))\n",
    "    \n",
    "    return mean_residual, percentChange"
   ]
  },
  {
   "cell_type": "code",
   "execution_count": 34,
   "id": "77a0be62",
   "metadata": {},
   "outputs": [],
   "source": [
    "def save_as_nifti_files(meanFits, tmaxFits, ymaxFits, bFits, offsetFits, newfits, residuals, name, hdr, mean_residual, percentChange):\n",
    "    path2 = '/home/arya/Downloads/newData/*/*/'\n",
    "    folder_name = \"fits_\"+name\n",
    "    folder = os.path.join(path2, folder_name,\"\")\n",
    "    os.makedirs(folder)\n",
    "    \n",
    "    nifti_file_mean = nib.Nifti1Image(meanFits, None, header = hdr)\n",
    "    nib.save(nifti_file_mean, os.path.join(folder, \"mean.nii.gz\"))\n",
    "\n",
    "\n",
    "    nifti_file_tmax = nib.Nifti1Image(tmaxFits, None, header = hdr)\n",
    "    nib.save(nifti_file_tmax, os.path.join(folder, \"tmax.nii.gz\"))\n",
    "\n",
    "    nifti_file_ymax = nib.Nifti1Image(ymaxFits, None, header = hdr)\n",
    "    nib.save(nifti_file_ymax, os.path.join(folder,\"ymax.nii.gz\"))\n",
    "    \n",
    "    nifti_file_b = nib.Nifti1Image(bFits, None, header = hdr)\n",
    "    nib.save(nifti_file_b, os.path.join(folder, 'shape.nii.gz'))\n",
    "\n",
    "    nifti_file_offset = nib.Nifti1Image(offsetFits, None, header = hdr)\n",
    "    nib.save(nifti_file_offset, os.path.join(folder, 'offsets.nii.gz'))\n",
    "\n",
    "    nifti_file_fits = nib.Nifti1Image(newfits, None, header = hdr)\n",
    "    nib.save(nifti_file_fits, os.path.join(folder, \"fits.nii.gz\"))\n",
    "    \n",
    "    nifti_file_residuals = nib.Nifti1Image(residuals, None, header = hdr)\n",
    "    nib.save(nifti_file_residuals, os.path.join(folder, \"residuals.nii.gz\"))\n",
    "    \n",
    "    nifti_file_mean_residual = nib.Nifti1Image(mean_residual, None, header = hdr)\n",
    "    nib.save(nifti_file_mean_residual, os.path.join(folder, \"mean_residual.nii.gz\"))\n",
    "    \n",
    "    nifti_file_percent_change = nib.Nifti1Image(percentChange, None, header = hdr)\n",
    "    nib.save(nifti_file_percent_change, os.path.join(folder, \"percentchange.nii.gz\"))"
   ]
  },
  {
   "cell_type": "code",
   "execution_count": null,
   "id": "543ef09b",
   "metadata": {},
   "outputs": [
    {
     "name": "stdout",
     "output_type": "stream",
     "text": [
      "Pre-processing done\n",
      "Created mat\n",
      "Got the mean\n"
     ]
    }
   ],
   "source": [
    "path = '/home/arya/Downloads/newData/*/*/*/filtered*'\n",
    "\n",
    "import glob\n",
    "files = []\n",
    "for f in glob.glob(path):\n",
    "    files.append(f)\n",
    "        \n",
    "for f in files:\n",
    "    name = f.split('/')[5]\n",
    "    arr, arr_nonzero_time, a, b, c, d, nonzero_time, new_arr, hdr = preprocess_data(f)\n",
    "    print(\"Pre-processing done\")\n",
    "    mat = get_mat(arr_nonzero_time, d)\n",
    "    print(\"Created mat\")\n",
    "    meann = get_meann(arr_nonzero_time)\n",
    "    print(\"Got the mean\")\n",
    "    result2 = step1(objective2, mat, arr_nonzero_time)\n",
    "    print(\"Step 1 done\")\n",
    "    fits = get_initial_fits(result2)\n",
    "    print(\"Initial fits estimated\")\n",
    "    offsets = get_initial_offsets(fits)\n",
    "    print(\"offsets calculated\")\n",
    "    arr_nonzero_time2 = adjust_waveforms(arr_nonzero_time, offsets)\n",
    "    print(\"Waves adjusted\")\n",
    "    result1 = step2(objective, mat, arr_nonzero_time2)\n",
    "    print(\"step2 done\")\n",
    "    newFits = get_final_fits(result1, result2, objective)\n",
    "    print(\"Final fits estimated\")\n",
    "    newoffsets = get_adjusted_offsets(newFits)\n",
    "    print(\"adjusted offsets calculated\")\n",
    "    residuals = calculate_residuals(newFits, arr_nonzero_time)\n",
    "    print(\"residuals calculation done\")\n",
    "    meanFits, tmaxFits, ymaxFits, bFits, offsetFits, newfits, residualfits, ymax_list = recreate_original_arrays(result1, offsets, arr, a, b, c, d, meann, newFits, residuals, nonzero_time, new_arr)\n",
    "    print(\"Arrays created\")\n",
    "    mean_residuals = calculate_mean_residual(residuals, arr_nonzero_time)\n",
    "    percent_change = calculate_percentchange(ymax_list, meann)\n",
    "    mean_residual, percentChange = recreate_og_arrays(arr, a, b, c, d, mean_residuals, percent_change)\n",
    "    save_as_nifti_files(meanFits, tmaxFits, ymaxFits, bFits, offsetFits, newfits, residualfits, name, hdr, mean_residual, percentChange)\n",
    "    print(\"dataset_\"+ name+ \" done\")"
   ]
  },
  {
   "cell_type": "code",
   "execution_count": null,
   "id": "35e4545a",
   "metadata": {},
   "outputs": [],
   "source": [
    "i = 1000\n",
    "plt.plot(arr_nonzero_time[i,:])\n",
    "plt.plot(newFits[i])"
   ]
  },
  {
   "cell_type": "code",
   "execution_count": 21,
   "id": "dfa664e7",
   "metadata": {},
   "outputs": [
    {
     "ename": "NameError",
     "evalue": "name 'img' is not defined",
     "output_type": "error",
     "traceback": [
      "\u001b[0;31m---------------------------------------------------------------------------\u001b[0m",
      "\u001b[0;31mNameError\u001b[0m                                 Traceback (most recent call last)",
      "Input \u001b[0;32mIn [21]\u001b[0m, in \u001b[0;36m<cell line: 1>\u001b[0;34m()\u001b[0m\n\u001b[0;32m----> 1\u001b[0m hdr \u001b[38;5;241m=\u001b[39m \u001b[43mimg\u001b[49m\u001b[38;5;241m.\u001b[39mheader\n\u001b[1;32m      2\u001b[0m hdr\u001b[38;5;241m.\u001b[39mget_xyzt_units()\n\u001b[1;32m      3\u001b[0m raw \u001b[38;5;241m=\u001b[39m hdr\u001b[38;5;241m.\u001b[39mstructarr\n",
      "\u001b[0;31mNameError\u001b[0m: name 'img' is not defined"
     ]
    }
   ],
   "source": [
    "hdr = img.header\n",
    "hdr.get_xyzt_units()\n"
   ]
  },
  {
   "cell_type": "code",
   "execution_count": null,
   "id": "4c08d03a",
   "metadata": {},
   "outputs": [],
   "source": []
  },
  {
   "cell_type": "code",
   "execution_count": null,
   "id": "17ecd24e",
   "metadata": {},
   "outputs": [],
   "source": []
  }
 ],
 "metadata": {
  "kernelspec": {
   "display_name": "Python 3 (ipykernel)",
   "language": "python",
   "name": "python3"
  },
  "language_info": {
   "codemirror_mode": {
    "name": "ipython",
    "version": 3
   },
   "file_extension": ".py",
   "mimetype": "text/x-python",
   "name": "python",
   "nbconvert_exporter": "python",
   "pygments_lexer": "ipython3",
   "version": "3.9.13"
  }
 },
 "nbformat": 4,
 "nbformat_minor": 5
}
