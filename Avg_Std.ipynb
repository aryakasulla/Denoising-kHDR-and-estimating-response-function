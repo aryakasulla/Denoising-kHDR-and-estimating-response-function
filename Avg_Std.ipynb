{
  "cells": [
    {
      "cell_type": "markdown",
      "source": [
        "Storing files in an array that can retrieved when needed."
      ],
      "metadata": {
        "id": "DjPNWOEibsP0"
      },
      "id": "DjPNWOEibsP0"
    },
    {
      "cell_type": "code",
      "execution_count": null,
      "id": "dc08cb90",
      "metadata": {
        "id": "dc08cb90"
      },
      "outputs": [],
      "source": [
        "import os\n",
        "import numpy as np\n",
        "import nibabel as nib"
      ]
    },
    {
      "cell_type": "code",
      "execution_count": null,
      "id": "9789a564",
      "metadata": {
        "id": "9789a564"
      },
      "outputs": [],
      "source": [
        "path = '/home/arya/Downloads/newData/*/*/ymax2MNI.nii.gz*'"
      ]
    },
    {
      "cell_type": "code",
      "execution_count": null,
      "id": "f86c4510",
      "metadata": {
        "id": "f86c4510"
      },
      "outputs": [],
      "source": [
        "import glob\n",
        "files_ymax = []\n",
        "for f in glob.glob(path):\n",
        "    files_ymax.append(f)     "
      ]
    },
    {
      "cell_type": "code",
      "execution_count": null,
      "id": "7af529e3",
      "metadata": {
        "id": "7af529e3"
      },
      "outputs": [],
      "source": [
        "path2 = '/home/arya/Downloads/newData/*/*/tmax2MNI.nii.gz*'\n",
        "files_tmax = []\n",
        "for f in glob.glob(path2):\n",
        "    files_tmax.append(f) "
      ]
    },
    {
      "cell_type": "code",
      "execution_count": null,
      "id": "8d7e9c5c",
      "metadata": {
        "id": "8d7e9c5c",
        "outputId": "6cb92e3a-2064-4a34-8563-55457e45c07d"
      },
      "outputs": [
        {
          "data": {
            "text/plain": [
              "['/home/arya/Downloads/newData/xFA0164/fits_xFA0164/offsets2MNI.nii.gz',\n",
              " '/home/arya/Downloads/newData/xFA0136/fits_xFA0136/offsets2MNI.nii.gz',\n",
              " '/home/arya/Downloads/newData/xFA1100/fits_xFA1100/offsets2MNI.nii.gz',\n",
              " '/home/arya/Downloads/newData/xFA0213/fits_xFA0213/offsets2MNI.nii.gz',\n",
              " '/home/arya/Downloads/newData/xFA1135/fits_xFA1135/offsets2MNI.nii.gz',\n",
              " '/home/arya/Downloads/newData/xFA0185/fits_xFA0185/offsets2MNI.nii.gz',\n",
              " '/home/arya/Downloads/newData/xFA0219/fits_xFA0219/offsets2MNI.nii.gz',\n",
              " '/home/arya/Downloads/newData/xFA1103/fits_xFA1103/offsets2MNI.nii.gz',\n",
              " '/home/arya/Downloads/newData/xFA1134/fits_xFA1134/offsets2MNI.nii.gz',\n",
              " '/home/arya/Downloads/newData/xFA1125/fits_xFA1125/offsets2MNI.nii.gz',\n",
              " '/home/arya/Downloads/newData/xFA0207/fits_xFA0207/offsets2MNI.nii.gz',\n",
              " '/home/arya/Downloads/newData/xFA0327/fits_xFA0327/offsets2MNI.nii.gz',\n",
              " '/home/arya/Downloads/newData/xFA1121/fits_xFA1121/offsets2MNI.nii.gz',\n",
              " '/home/arya/Downloads/newData/xFA0310/fits_xFA0310/offsets2MNI.nii.gz',\n",
              " '/home/arya/Downloads/newData/xFA0202/fits_xFA0202/offsets2MNI.nii.gz',\n",
              " '/home/arya/Downloads/newData/xFA1123/fits_xFA1123/offsets2MNI.nii.gz',\n",
              " '/home/arya/Downloads/newData/xFA0323/fits_xFA0323/offsets2MNI.nii.gz',\n",
              " '/home/arya/Downloads/newData/xFA0193/fits_xFA0193/offsets2MNI.nii.gz',\n",
              " '/home/arya/Downloads/newData/xFA0325/fits_xFA0325/offsets2MNI.nii.gz',\n",
              " '/home/arya/Downloads/newData/xFA0220/fits_xFA0220/offsets2MNI.nii.gz',\n",
              " '/home/arya/Downloads/newData/xFA0304/fits_xFA0304/offsets2MNI.nii.gz',\n",
              " '/home/arya/Downloads/newData/xFA0329/fits_xFA0329/offsets2MNI.nii.gz',\n",
              " '/home/arya/Downloads/newData/xFA0303/fits_xFA0303/offsets2MNI.nii.gz',\n",
              " '/home/arya/Downloads/newData/xFA0168/fits_xFA0168/offsets2MNI.nii.gz',\n",
              " '/home/arya/Downloads/newData/xFA0161/fits_xFA0161/offsets2MNI.nii.gz',\n",
              " '/home/arya/Downloads/newData/xFA0316/fits_xFA0316/offsets2MNI.nii.gz',\n",
              " '/home/arya/Downloads/newData/xFA0302/fits_xFA0302/offsets2MNI.nii.gz',\n",
              " '/home/arya/Downloads/newData/xFA0211/fits_xFA0211/offsets2MNI.nii.gz',\n",
              " '/home/arya/Downloads/newData/xFA1124/fits_xFA1124/offsets2MNI.nii.gz']"
            ]
          },
          "execution_count": 6,
          "metadata": {},
          "output_type": "execute_result"
        }
      ],
      "source": [
        "path3 = '/home/arya/Downloads/newData/*/*/offsets2MNI.nii.gz*'\n",
        "files_offsets= []\n",
        "for f in glob.glob(path3):\n",
        "    files_offsets.append(f) \n",
        "    \n",
        "files_offsets"
      ]
    },
    {
      "cell_type": "code",
      "execution_count": null,
      "id": "dd98127e",
      "metadata": {
        "id": "dd98127e",
        "outputId": "268662d6-7890-4165-f0e5-87658844d422"
      },
      "outputs": [
        {
          "data": {
            "text/plain": [
              "['/home/arya/Downloads/newData/xFA0164/fits_xFA0164/shape2MNI.nii.gz',\n",
              " '/home/arya/Downloads/newData/xFA0136/fits_xFA0136/shape2MNI.nii.gz',\n",
              " '/home/arya/Downloads/newData/xFA1100/fits_xFA1100/shape2MNI.nii.gz',\n",
              " '/home/arya/Downloads/newData/xFA0213/fits_xFA0213/shape2MNI.nii.gz',\n",
              " '/home/arya/Downloads/newData/xFA1135/fits_xFA1135/shape2MNI.nii.gz',\n",
              " '/home/arya/Downloads/newData/xFA0185/fits_xFA0185/shape2MNI.nii.gz',\n",
              " '/home/arya/Downloads/newData/xFA0219/fits_xFA0219/shape2MNI.nii.gz',\n",
              " '/home/arya/Downloads/newData/xFA1103/fits_xFA1103/shape2MNI.nii.gz',\n",
              " '/home/arya/Downloads/newData/xFA1134/fits_xFA1134/shape2MNI.nii.gz',\n",
              " '/home/arya/Downloads/newData/xFA1125/fits_xFA1125/shape2MNI.nii.gz',\n",
              " '/home/arya/Downloads/newData/xFA0207/fits_xFA0207/shape2MNI.nii.gz',\n",
              " '/home/arya/Downloads/newData/xFA0327/fits_xFA0327/shape2MNI.nii.gz',\n",
              " '/home/arya/Downloads/newData/xFA1121/fits_xFA1121/shape2MNI.nii.gz',\n",
              " '/home/arya/Downloads/newData/xFA0310/fits_xFA0310/shape2MNI.nii.gz',\n",
              " '/home/arya/Downloads/newData/xFA0202/fits_xFA0202/shape2MNI.nii.gz',\n",
              " '/home/arya/Downloads/newData/xFA1123/fits_xFA1123/shape2MNI.nii.gz',\n",
              " '/home/arya/Downloads/newData/xFA0323/fits_xFA0323/shape2MNI.nii.gz',\n",
              " '/home/arya/Downloads/newData/xFA0193/fits_xFA0193/shape2MNI.nii.gz',\n",
              " '/home/arya/Downloads/newData/xFA0325/fits_xFA0325/shape2MNI.nii.gz',\n",
              " '/home/arya/Downloads/newData/xFA0220/fits_xFA0220/shape2MNI.nii.gz',\n",
              " '/home/arya/Downloads/newData/xFA0304/fits_xFA0304/shape2MNI.nii.gz',\n",
              " '/home/arya/Downloads/newData/xFA0329/fits_xFA0329/shape2MNI.nii.gz',\n",
              " '/home/arya/Downloads/newData/xFA0303/fits_xFA0303/shape2MNI.nii.gz',\n",
              " '/home/arya/Downloads/newData/xFA0168/fits_xFA0168/shape2MNI.nii.gz',\n",
              " '/home/arya/Downloads/newData/xFA0161/fits_xFA0161/shape2MNI.nii.gz',\n",
              " '/home/arya/Downloads/newData/xFA0316/fits_xFA0316/shape2MNI.nii.gz',\n",
              " '/home/arya/Downloads/newData/xFA0302/fits_xFA0302/shape2MNI.nii.gz',\n",
              " '/home/arya/Downloads/newData/xFA0211/fits_xFA0211/shape2MNI.nii.gz',\n",
              " '/home/arya/Downloads/newData/xFA1124/fits_xFA1124/shape2MNI.nii.gz']"
            ]
          },
          "execution_count": 7,
          "metadata": {},
          "output_type": "execute_result"
        }
      ],
      "source": [
        "path4 = '/home/arya/Downloads/newData/*/*/shape2MNI.nii.gz*'\n",
        "files_shape= []\n",
        "for f in glob.glob(path4):\n",
        "    files_shape.append(f) \n",
        "    \n",
        "files_shape"
      ]
    },
    {
      "cell_type": "code",
      "execution_count": null,
      "id": "d8de7e6f",
      "metadata": {
        "id": "d8de7e6f",
        "outputId": "7a81bccd-2f87-4ebc-8ebf-077b52694ccc"
      },
      "outputs": [
        {
          "data": {
            "text/plain": [
              "['/home/arya/Downloads/newData/xFA0164/fits_xFA0164/mean_residual2MNI.nii.gz',\n",
              " '/home/arya/Downloads/newData/xFA0136/fits_xFA0136/mean_residual2MNI.nii.gz',\n",
              " '/home/arya/Downloads/newData/xFA1100/fits_xFA1100/mean_residual2MNI.nii.gz',\n",
              " '/home/arya/Downloads/newData/xFA0213/fits_xFA0213/mean_residual2MNI.nii.gz',\n",
              " '/home/arya/Downloads/newData/xFA1135/fits_xFA1135/mean_residual2MNI.nii.gz',\n",
              " '/home/arya/Downloads/newData/xFA0185/fits_xFA0185/mean_residual2MNI.nii.gz',\n",
              " '/home/arya/Downloads/newData/xFA0219/fits_xFA0219/mean_residual2MNI.nii.gz',\n",
              " '/home/arya/Downloads/newData/xFA1103/fits_xFA1103/mean_residual2MNI.nii.gz',\n",
              " '/home/arya/Downloads/newData/xFA1134/fits_xFA1134/mean_residual2MNI.nii.gz',\n",
              " '/home/arya/Downloads/newData/xFA1125/fits_xFA1125/mean_residual2MNI.nii.gz',\n",
              " '/home/arya/Downloads/newData/xFA0207/fits_xFA0207/mean_residual2MNI.nii.gz',\n",
              " '/home/arya/Downloads/newData/xFA0327/fits_xFA0327/mean_residual2MNI.nii.gz',\n",
              " '/home/arya/Downloads/newData/xFA1121/fits_xFA1121/mean_residual2MNI.nii.gz',\n",
              " '/home/arya/Downloads/newData/xFA0310/fits_xFA0310/mean_residual2MNI.nii.gz',\n",
              " '/home/arya/Downloads/newData/xFA0202/fits_xFA0202/mean_residual2MNI.nii.gz',\n",
              " '/home/arya/Downloads/newData/xFA1123/fits_xFA1123/mean_residual2MNI.nii.gz',\n",
              " '/home/arya/Downloads/newData/xFA0323/fits_xFA0323/mean_residual2MNI.nii.gz',\n",
              " '/home/arya/Downloads/newData/xFA0193/fits_xFA0193/mean_residual2MNI.nii.gz',\n",
              " '/home/arya/Downloads/newData/xFA0325/fits_xFA0325/mean_residual2MNI.nii.gz',\n",
              " '/home/arya/Downloads/newData/xFA0220/fits_xFA0220/mean_residual2MNI.nii.gz',\n",
              " '/home/arya/Downloads/newData/xFA0304/fits_xFA0304/mean_residual2MNI.nii.gz',\n",
              " '/home/arya/Downloads/newData/xFA0329/fits_xFA0329/mean_residual2MNI.nii.gz',\n",
              " '/home/arya/Downloads/newData/xFA0303/fits_xFA0303/mean_residual2MNI.nii.gz',\n",
              " '/home/arya/Downloads/newData/xFA0168/fits_xFA0168/mean_residual2MNI.nii.gz',\n",
              " '/home/arya/Downloads/newData/xFA0161/fits_xFA0161/mean_residual2MNI.nii.gz',\n",
              " '/home/arya/Downloads/newData/xFA0316/fits_xFA0316/mean_residual2MNI.nii.gz',\n",
              " '/home/arya/Downloads/newData/xFA0302/fits_xFA0302/mean_residual2MNI.nii.gz',\n",
              " '/home/arya/Downloads/newData/xFA0211/fits_xFA0211/mean_residual2MNI.nii.gz',\n",
              " '/home/arya/Downloads/newData/xFA1124/fits_xFA1124/mean_residual2MNI.nii.gz']"
            ]
          },
          "execution_count": 8,
          "metadata": {},
          "output_type": "execute_result"
        }
      ],
      "source": [
        "path5 = '/home/arya/Downloads/newData/*/*/mean_residual2MNI.nii.gz*'\n",
        "files_mean_residual= []\n",
        "for f in glob.glob(path5):\n",
        "    files_mean_residual.append(f) \n",
        "    \n",
        "files_mean_residual"
      ]
    },
    {
      "cell_type": "code",
      "execution_count": null,
      "id": "b259db25",
      "metadata": {
        "id": "b259db25",
        "outputId": "af61088c-b11c-4c79-fbb6-3b96cd9e057b"
      },
      "outputs": [
        {
          "data": {
            "text/plain": [
              "['/home/arya/Downloads/newData/xFA0164/fits_xFA0164/mean2MNI.nii.gz',\n",
              " '/home/arya/Downloads/newData/xFA0136/fits_xFA0136/mean2MNI.nii.gz',\n",
              " '/home/arya/Downloads/newData/xFA1100/fits_xFA1100/mean2MNI.nii.gz',\n",
              " '/home/arya/Downloads/newData/xFA0213/fits_xFA0213/mean2MNI.nii.gz',\n",
              " '/home/arya/Downloads/newData/xFA1135/fits_xFA1135/mean2MNI.nii.gz',\n",
              " '/home/arya/Downloads/newData/xFA0185/fits_xFA0185/mean2MNI.nii.gz',\n",
              " '/home/arya/Downloads/newData/xFA0219/fits_xFA0219/mean2MNI.nii.gz',\n",
              " '/home/arya/Downloads/newData/xFA1103/fits_xFA1103/mean2MNI.nii.gz',\n",
              " '/home/arya/Downloads/newData/xFA1134/fits_xFA1134/mean2MNI.nii.gz',\n",
              " '/home/arya/Downloads/newData/xFA1125/fits_xFA1125/mean2MNI.nii.gz',\n",
              " '/home/arya/Downloads/newData/xFA0207/fits_xFA0207/mean2MNI.nii.gz',\n",
              " '/home/arya/Downloads/newData/xFA0327/fits_xFA0327/mean2MNI.nii.gz',\n",
              " '/home/arya/Downloads/newData/xFA1121/fits_xFA1121/mean2MNI.nii.gz',\n",
              " '/home/arya/Downloads/newData/xFA0310/fits_xFA0310/mean2MNI.nii.gz',\n",
              " '/home/arya/Downloads/newData/xFA0202/fits_xFA0202/mean2MNI.nii.gz',\n",
              " '/home/arya/Downloads/newData/xFA1123/fits_xFA1123/mean2MNI.nii.gz',\n",
              " '/home/arya/Downloads/newData/xFA0323/fits_xFA0323/mean2MNI.nii.gz',\n",
              " '/home/arya/Downloads/newData/xFA0193/fits_xFA0193/mean2MNI.nii.gz',\n",
              " '/home/arya/Downloads/newData/xFA0325/fits_xFA0325/mean2MNI.nii.gz',\n",
              " '/home/arya/Downloads/newData/xFA0220/fits_xFA0220/mean2MNI.nii.gz',\n",
              " '/home/arya/Downloads/newData/xFA0304/fits_xFA0304/mean2MNI.nii.gz',\n",
              " '/home/arya/Downloads/newData/xFA0329/fits_xFA0329/mean2MNI.nii.gz',\n",
              " '/home/arya/Downloads/newData/xFA0303/fits_xFA0303/mean2MNI.nii.gz',\n",
              " '/home/arya/Downloads/newData/xFA0168/fits_xFA0168/mean2MNI.nii.gz',\n",
              " '/home/arya/Downloads/newData/xFA0161/fits_xFA0161/mean2MNI.nii.gz',\n",
              " '/home/arya/Downloads/newData/xFA0316/fits_xFA0316/mean2MNI.nii.gz',\n",
              " '/home/arya/Downloads/newData/xFA0302/fits_xFA0302/mean2MNI.nii.gz',\n",
              " '/home/arya/Downloads/newData/xFA0211/fits_xFA0211/mean2MNI.nii.gz',\n",
              " '/home/arya/Downloads/newData/xFA1124/fits_xFA1124/mean2MNI.nii.gz']"
            ]
          },
          "execution_count": 9,
          "metadata": {},
          "output_type": "execute_result"
        }
      ],
      "source": [
        "path6 = '/home/arya/Downloads/newData/*/*/mean2MNI.nii.gz*'\n",
        "files_mean= []\n",
        "for f in glob.glob(path6):\n",
        "    files_mean.append(f) \n",
        "    \n",
        "files_mean"
      ]
    },
    {
      "cell_type": "markdown",
      "source": [
        "Calculating mean for MNI files of 29 patients"
      ],
      "metadata": {
        "id": "h1C46Fd7b82a"
      },
      "id": "h1C46Fd7b82a"
    },
    {
      "cell_type": "code",
      "execution_count": null,
      "id": "9e7d7294",
      "metadata": {
        "id": "9e7d7294"
      },
      "outputs": [],
      "source": [
        "file_ymax_nib = nib.load(files_ymax[1])\n",
        "file_ymax_np = file_ymax_nib.get_fdata()\n",
        "file_data_ymax = np.array(file_ymax_np).astype('float64')"
      ]
    },
    {
      "cell_type": "code",
      "execution_count": null,
      "id": "2391b531",
      "metadata": {
        "id": "2391b531"
      },
      "outputs": [],
      "source": [
        "import nibabel as nib\n",
        "import numpy as np\n",
        "\n",
        "ymax_avg = []\n",
        "for f in files_ymax:\n",
        "    file_ymax = nib.load(f)\n",
        "    hdr_ymax = file_ymax.header\n",
        "    file_data_ymax += file_ymax.get_fdata()\n",
        "    file_data_ymax_mean = file_data_ymax/len(files_ymax)"
      ]
    },
    {
      "cell_type": "code",
      "execution_count": null,
      "id": "7c857652",
      "metadata": {
        "id": "7c857652"
      },
      "outputs": [],
      "source": []
    },
    {
      "cell_type": "code",
      "execution_count": null,
      "id": "15e9b445",
      "metadata": {
        "id": "15e9b445"
      },
      "outputs": [],
      "source": [
        "path7 = '/home/arya/Downloads/newData/'\n",
        "folder_name = 'Averages'\n",
        "folder = os.path.join(path7, folder_name,\"\")\n",
        "os.makedirs(folder)\n",
        "\n",
        "nifti_file_ymax_avg = nib.Nifti1Image(file_data_ymax_mean, None, header = hdr_ymax)\n",
        "nib.save(nifti_file_ymax_avg, os.path.join(folder, \"ymax_avg.nii.gz\"))\n"
      ]
    },
    {
      "cell_type": "code",
      "execution_count": null,
      "id": "fc0465fa",
      "metadata": {
        "id": "fc0465fa"
      },
      "outputs": [],
      "source": [
        "file_tmax_nib = nib.load(files_tmax[1])\n",
        "file_tmax_np = file_tmax_nib.get_fdata()\n",
        "file_data_tmax = np.array(file_tmax_np).astype('float64')"
      ]
    },
    {
      "cell_type": "code",
      "execution_count": null,
      "id": "4c3626fc",
      "metadata": {
        "id": "4c3626fc"
      },
      "outputs": [],
      "source": [
        "for f in files_tmax:\n",
        "    file_tmax = nib.load(f)\n",
        "    hdr_tmax = file_tmax.header\n",
        "    file_data_tmax += file_tmax.get_fdata()\n",
        "    file_data_tmax_mean = file_data_tmax/len(files_tmax)\n",
        "    \n",
        "\n",
        "nifti_file_tmax_avg = nib.Nifti1Image(file_data_tmax_mean, None, header = hdr_tmax)\n",
        "nib.save(nifti_file_tmax_avg, os.path.join(folder, \"tmax_avg.nii.gz\"))"
      ]
    },
    {
      "cell_type": "code",
      "execution_count": null,
      "id": "ea6d1d62",
      "metadata": {
        "id": "ea6d1d62"
      },
      "outputs": [],
      "source": [
        "file_offsets_nib = nib.load(files_offsets[1])\n",
        "file_offsets_np = file_offsets_nib.get_fdata()\n",
        "file_data_offsets = np.array(file_offsets_np).astype('float64')"
      ]
    },
    {
      "cell_type": "code",
      "execution_count": null,
      "id": "a917a389",
      "metadata": {
        "id": "a917a389"
      },
      "outputs": [],
      "source": [
        "for f in files_offsets:\n",
        "    file_offset = nib.load(f)\n",
        "    hdr_offsets = file_offset.header\n",
        "    file_data_offsets += file_offset.get_fdata()\n",
        "    file_data_offsets_mean = file_data_offsets/len(files_offsets)\n",
        "    \n",
        "\n",
        "nifti_file_offset_avg = nib.Nifti1Image(file_data_offsets_mean, None, header = hdr_offsets)\n",
        "nib.save(nifti_file_offset_avg, os.path.join(folder, \"offset_avg.nii.gz\"))"
      ]
    },
    {
      "cell_type": "code",
      "execution_count": null,
      "id": "ac0331f8",
      "metadata": {
        "id": "ac0331f8"
      },
      "outputs": [],
      "source": [
        "file_shape_nib = nib.load(files_shape[1])\n",
        "file_shape_np = file_shape_nib.get_fdata()\n",
        "file_data_shape = np.array(file_shape_np).astype('float64')"
      ]
    },
    {
      "cell_type": "code",
      "execution_count": null,
      "id": "2193f970",
      "metadata": {
        "id": "2193f970"
      },
      "outputs": [],
      "source": [
        "for f in files_shape:\n",
        "    file_shape = nib.load(f)\n",
        "    hdr_shape = file_shape.header\n",
        "    file_data_shape += file_shape.get_fdata()\n",
        "    file_data_shape_mean = file_data_shape/len(files_shape)\n",
        "\n",
        "nifti_file_shape_avg = nib.Nifti1Image(file_data_shape_mean, None, header = hdr_shape)\n",
        "nib.save(nifti_file_shape_avg, os.path.join(folder, \"shape_avg.nii.gz\"))"
      ]
    },
    {
      "cell_type": "code",
      "execution_count": null,
      "id": "94a99423",
      "metadata": {
        "id": "94a99423"
      },
      "outputs": [],
      "source": [
        "file_mean_nib = nib.load(files_mean[1])\n",
        "file_mean_np = file_mean_nib.get_fdata()\n",
        "file_data_mean = np.array(file_mean_np).astype('float64')"
      ]
    },
    {
      "cell_type": "code",
      "execution_count": null,
      "id": "1124461c",
      "metadata": {
        "id": "1124461c"
      },
      "outputs": [],
      "source": [
        "for f in files_mean:\n",
        "    file_mean = nib.load(f)\n",
        "    hdr_mean = file_mean.header\n",
        "    file_data_mean += file_mean.get_fdata()\n",
        "    file_data_mean_mean = file_data_mean/len(files_mean)\n",
        "    \n",
        "\n",
        "nifti_file_mean_avg = nib.Nifti1Image(file_data_mean_mean, None, header = hdr_mean)\n",
        "nib.save(nifti_file_mean_avg, os.path.join(folder, \"mean_avg.nii.gz\"))"
      ]
    },
    {
      "cell_type": "code",
      "execution_count": null,
      "id": "86c84df6",
      "metadata": {
        "id": "86c84df6"
      },
      "outputs": [],
      "source": [
        "file_mean_residual_nib = nib.load(files_mean_residual[1])\n",
        "file_mean_residual_np = file_mean_residual_nib.get_fdata()\n",
        "file_data_mean_residual = np.array(file_mean_residual_np).astype('float64')"
      ]
    },
    {
      "cell_type": "code",
      "execution_count": null,
      "id": "58c68cde",
      "metadata": {
        "id": "58c68cde"
      },
      "outputs": [],
      "source": [
        "for f in files_mean_residual:\n",
        "    file_mean_residual = nib.load(f)\n",
        "    hdr_mean_residual = file_mean_residual.header\n",
        "    file_data_mean_residual += file_mean_residual.get_fdata()\n",
        "    file_data_mean_residual_mean = file_data_mean_residual/len(files_mean_residual)\n",
        "    \n",
        "\n",
        "nifti_file_mean_residual_avg = nib.Nifti1Image(file_data_mean_residual_mean, None, header = hdr_mean_residual)\n",
        "nib.save(nifti_file_mean_residual_avg, os.path.join(folder, \"mean_residual_avg.nii.gz\"))"
      ]
    },
    {
      "cell_type": "code",
      "execution_count": null,
      "id": "00e8d98e",
      "metadata": {
        "id": "00e8d98e"
      },
      "outputs": [],
      "source": [
        "file_mean_nib = nib.load(files_mean[1])\n",
        "file_mean_np = file_mean_nib.get_fdata()\n",
        "y_percent = np.array(file_mean_np).astype('float64')"
      ]
    },
    {
      "cell_type": "code",
      "execution_count": null,
      "id": "76587b9b",
      "metadata": {
        "id": "76587b9b"
      },
      "outputs": [],
      "source": [
        "#Calculating percent change for ymax.\n",
        "\n",
        "for i in range(len(files_ymax)):\n",
        "    y, m = nib.load(files_ymax[i]), nib.load(files_mean[i])\n",
        "    y_np, m_np = y.get_fdata(), m.get_fdata()\n",
        "    y_percent += y_np/m_np\n",
        "    \n",
        "\n",
        "nifti_file_ypercent = nib.Nifti1Image(y_percent, None, header = hdr_ymax)\n",
        "nib.save(nifti_file_ypercent, os.path.join(folder, \"y_percent.nii.gz\"))\n",
        "    "
      ]
    },
    {
      "cell_type": "code",
      "execution_count": null,
      "id": "46127049",
      "metadata": {
        "id": "46127049"
      },
      "outputs": [],
      "source": []
    },
    {
      "cell_type": "markdown",
      "source": [
        "Calculating standard deviations"
      ],
      "metadata": {
        "id": "8LAlhAj7cMaP"
      },
      "id": "8LAlhAj7cMaP"
    },
    {
      "cell_type": "code",
      "execution_count": null,
      "id": "fe9a7c4b",
      "metadata": {
        "id": "fe9a7c4b",
        "outputId": "21df6ca0-fad7-40f4-d5c9-efdc2fe882dc"
      },
      "outputs": [
        {
          "data": {
            "text/plain": [
              "(91, 109, 91)"
            ]
          },
          "execution_count": 86,
          "metadata": {},
          "output_type": "execute_result"
        }
      ],
      "source": [
        "img = files_ymax[5]\n",
        "img_nib = nib.load(img)\n",
        "img_np = img_nib.get_fdata()\n",
        "hdr = img_nib.header\n",
        "img_np.shape"
      ]
    },
    {
      "cell_type": "code",
      "execution_count": null,
      "id": "d26712a9",
      "metadata": {
        "id": "d26712a9"
      },
      "outputs": [],
      "source": [
        "std_value = np.zeros((91,109,91))\n",
        "\n",
        "for sliceNum in range(91):\n",
        "    raw_slice = np.zeros((91,109,29))\n",
        "    for subjNum in range(29):\n",
        "        img_nib = nib.load(files_ymax[subjNum])\n",
        "        img_np = img_nib.get_fdata()\n",
        "        raw_slice[:,:,subjNum] = img_np[:,:,sliceNum]\n",
        "    std_value[:,:,sliceNum] = np.std(raw_slice,axis=2)\n",
        "    \n",
        "    #print(std_value)\n"
      ]
    },
    {
      "cell_type": "code",
      "execution_count": null,
      "id": "21cd7f63",
      "metadata": {
        "id": "21cd7f63"
      },
      "outputs": [],
      "source": [
        "a,b,c = std_value.shape\n",
        "stdFits = np.reshape(std_value,(a,b,c))"
      ]
    },
    {
      "cell_type": "code",
      "execution_count": null,
      "id": "76d39517",
      "metadata": {
        "id": "76d39517"
      },
      "outputs": [],
      "source": [
        "nifti_file_std = nib.Nifti1Image(stdFits, None, header = hdr)\n",
        "nib.save(nifti_file_std, os.path.join(folder, \"std.nii.gz\"))\n"
      ]
    },
    {
      "cell_type": "code",
      "execution_count": null,
      "id": "e3f264df",
      "metadata": {
        "id": "e3f264df"
      },
      "outputs": [],
      "source": [
        "std_tmax = np.zeros((91,109,91))\n",
        "\n",
        "for sliceNum in range(91):\n",
        "    raw_slice = np.zeros((91,109,29))\n",
        "    for subjNum in range(29):\n",
        "        img_nib = nib.load(files_tmax[subjNum])\n",
        "        img_np = img_nib.get_fdata()\n",
        "        raw_slice[:,:,subjNum] = img_np[:,:,sliceNum]\n",
        "    std_tmax[:,:,sliceNum] = np.std(raw_slice,axis=2)\n",
        "    \n",
        "    #print(std_value)\n",
        "a,b,c = std_tmax.shape\n",
        "stdFits_tmax = np.reshape(std_tmax,(a,b,c))\n",
        "\n",
        "nifti_stdtmax = nib.Nifti1Image(stdFits_tmax, None, header = hdr)\n",
        "nib.save(nifti_stdtmax, os.path.join(folder, \"std_tmax.nii.gz\"))\n"
      ]
    },
    {
      "cell_type": "code",
      "execution_count": null,
      "id": "65225508",
      "metadata": {
        "id": "65225508"
      },
      "outputs": [],
      "source": [
        "std_shape = np.zeros((91,109,91))\n",
        "\n",
        "for sliceNum in range(91):\n",
        "    raw_slice = np.zeros((91,109,29))\n",
        "    for subjNum in range(29):\n",
        "        img_nib = nib.load(files_shape[subjNum])\n",
        "        img_np = img_nib.get_fdata()\n",
        "        raw_slice[:,:,subjNum] = img_np[:,:,sliceNum]\n",
        "    std_shape[:,:,sliceNum] = np.std(raw_slice,axis=2)\n",
        "    \n",
        "    #print(std_value)\n",
        "a,b,c = std_shape.shape\n",
        "stdFits_shape = np.reshape(std_shape,(a,b,c))\n",
        "\n",
        "nifti_stdshape = nib.Nifti1Image(stdFits_shape, None, header = hdr)\n",
        "nib.save(nifti_stdshape, os.path.join(folder, \"std_shape.nii.gz\"))\n"
      ]
    },
    {
      "cell_type": "code",
      "execution_count": null,
      "id": "d539c7f1",
      "metadata": {
        "id": "d539c7f1"
      },
      "outputs": [],
      "source": [
        "std_offset = np.zeros((91,109,91))\n",
        "\n",
        "for sliceNum in range(91):\n",
        "    raw_slice = np.zeros((91,109,29))\n",
        "    for subjNum in range(29):\n",
        "        img_nib = nib.load(files_offsets[subjNum])\n",
        "        img_np = img_nib.get_fdata()\n",
        "        raw_slice[:,:,subjNum] = img_np[:,:,sliceNum]\n",
        "    std_offset[:,:,sliceNum] = np.std(raw_slice,axis=2)\n",
        "    \n",
        "    #print(std_value)\n",
        "a,b,c = std_offset.shape\n",
        "stdFits_offset = np.reshape(std_offset,(a,b,c))\n",
        "\n",
        "nifti_stdoffset = nib.Nifti1Image(stdFits_offset, None, header = hdr)\n",
        "nib.save(nifti_stdoffset, os.path.join(folder, \"std_offset.nii.gz\"))\n"
      ]
    },
    {
      "cell_type": "code",
      "execution_count": null,
      "id": "7d42c268",
      "metadata": {
        "id": "7d42c268"
      },
      "outputs": [],
      "source": [
        "pathyp = '/home/arya/Downloads/newData/*/*/percentchange2MNI.nii.gz*'\n",
        "files_yp= []\n",
        "for f in glob.glob(pathyp):\n",
        "    files_yp.append(f) "
      ]
    },
    {
      "cell_type": "code",
      "execution_count": null,
      "id": "c39267e1",
      "metadata": {
        "id": "c39267e1"
      },
      "outputs": [],
      "source": [
        "std_yp = np.zeros((91,109,91))\n",
        "\n",
        "for sliceNum in range(91):\n",
        "    raw_slice = np.zeros((91,109,29))\n",
        "    for subjNum in range(29):\n",
        "        img_nib = nib.load(files_yp[subjNum])\n",
        "        img_np = img_nib.get_fdata()\n",
        "        raw_slice[:,:,subjNum] = img_np[:,:,sliceNum]\n",
        "    std_yp[:,:,sliceNum] = np.std(raw_slice,axis=2)\n",
        "    \n",
        "    #print(std_value)\n",
        "a,b,c = std_yp.shape\n",
        "stdFits_yp = np.reshape(std_yp,(a,b,c))\n",
        "\n",
        "nifti_stdyp = nib.Nifti1Image(stdFits_yp, None, header = hdr)\n",
        "nib.save(nifti_stdyp, os.path.join(folder, \"std_percent_change.nii.gz\"))\n"
      ]
    },
    {
      "cell_type": "code",
      "execution_count": null,
      "id": "0a856137",
      "metadata": {
        "id": "0a856137"
      },
      "outputs": [],
      "source": [
        "file_yp_nib = nib.load(files_yp[1])\n",
        "file_yp_np = file_yp_nib.get_fdata()\n",
        "file_yp = np.array(file_yp_np).astype('float64')"
      ]
    },
    {
      "cell_type": "code",
      "execution_count": null,
      "id": "db01414b",
      "metadata": {
        "id": "db01414b"
      },
      "outputs": [],
      "source": [
        "for f in files_yp:\n",
        "    file_yp = nib.load(f)\n",
        "    hdr_yp = file_yp.header\n",
        "    file_yp_np += file_yp.get_fdata()\n",
        "    file_yp_mean = file_yp_np/len(files_yp)\n",
        "    \n",
        "\n",
        "nifti_file_yp_avg = nib.Nifti1Image(file_yp_mean, None, header = hdr_yp)\n",
        "nib.save(nifti_file_yp_avg, os.path.join(folder, \"yp_avg.nii.gz\"))\n"
      ]
    },
    {
      "cell_type": "markdown",
      "source": [
        "Calculating z-statistics for parameters"
      ],
      "metadata": {
        "id": "pUWcDaeEcSmV"
      },
      "id": "pUWcDaeEcSmV"
    },
    {
      "cell_type": "code",
      "execution_count": null,
      "id": "7ab8a224",
      "metadata": {
        "id": "7ab8a224"
      },
      "outputs": [],
      "source": [
        "tmax_avg_nib = nib.load('/home/arya/Downloads/newData/Averages/tmax_avg.nii.gz')\n",
        "tmax_avg_np = tmax_avg_nib.get_fdata()\n",
        "\n",
        "tmax_std_nib = nib.load('/home/arya/Downloads/newData/Averages/std_tmax.nii.gz')\n",
        "tmax_std_np = tmax_std_nib.get_fdata()\n",
        "\n",
        "zstat_tmax = tmax_avg_np/tmax_std_np\n",
        "\n",
        "nifti_zstat_tmax = nib.Nifti1Image(zstat_tmax, None, header = hdr)\n",
        "nib.save(nifti_zstat_tmax, os.path.join(folder, \"zstat_tmax.nii.gz\"))"
      ]
    },
    {
      "cell_type": "code",
      "execution_count": null,
      "id": "d88823f0",
      "metadata": {
        "id": "d88823f0"
      },
      "outputs": [],
      "source": [
        "shape_avg_nib = nib.load('/home/arya/Downloads/newData/Averages/shape_avg.nii.gz')\n",
        "shape_avg_np = shape_avg_nib.get_fdata()\n",
        "\n",
        "shape_std_nib = nib.load('/home/arya/Downloads/newData/Averages/std_shape.nii.gz')\n",
        "shape_std_np = shape_std_nib.get_fdata()\n",
        "\n",
        "zstat_shape = shape_avg_np/shape_std_np\n",
        "\n",
        "nifti_zstat_shape = nib.Nifti1Image(zstat_shape, None, header = hdr)\n",
        "nib.save(nifti_zstat_shape, os.path.join(folder, \"zstat_shape.nii.gz\"))"
      ]
    },
    {
      "cell_type": "code",
      "execution_count": null,
      "id": "b45b170e",
      "metadata": {
        "id": "b45b170e"
      },
      "outputs": [],
      "source": [
        "offset_avg_nib = nib.load('/home/arya/Downloads/newData/Averages/offset_avg.nii.gz')\n",
        "offset_avg_np = offset_avg_nib.get_fdata()\n",
        "\n",
        "offset_std_nib = nib.load('/home/arya/Downloads/newData/Averages/std_offset.nii.gz')\n",
        "offset_std_np = offset_std_nib.get_fdata()\n",
        "\n",
        "zstat_offset = offset_avg_np/offset_std_np\n",
        "\n",
        "nifti_zstat_offset = nib.Nifti1Image(zstat_offset, None, header = hdr)\n",
        "nib.save(nifti_zstat_offset, os.path.join(folder, \"zstat_offset.nii.gz\"))"
      ]
    },
    {
      "cell_type": "code",
      "execution_count": null,
      "id": "2b9a198a",
      "metadata": {
        "id": "2b9a198a"
      },
      "outputs": [],
      "source": [
        "yp_avg_nib = nib.load('/home/arya/Downloads/newData/Averages/yp_avg.nii.gz')\n",
        "yp_avg_np = yp_avg_nib.get_fdata()\n",
        "\n",
        "yp_std_nib = nib.load('/home/arya/Downloads/newData/Averages/std_percent_change.nii.gz')\n",
        "yp_std_np = yp_std_nib.get_fdata()\n",
        "\n",
        "zstat_yp = yp_avg_np/yp_std_np\n",
        "\n",
        "nifti_zstat_yp = nib.Nifti1Image(zstat_yp, None, header = hdr)\n",
        "nib.save(nifti_zstat_yp, os.path.join(folder, \"zstat_yp.nii.gz\"))"
      ]
    }
  ],
  "metadata": {
    "kernelspec": {
      "display_name": "Python 3 (ipykernel)",
      "language": "python",
      "name": "python3"
    },
    "language_info": {
      "codemirror_mode": {
        "name": "ipython",
        "version": 3
      },
      "file_extension": ".py",
      "mimetype": "text/x-python",
      "name": "python",
      "nbconvert_exporter": "python",
      "pygments_lexer": "ipython3",
      "version": "3.9.13"
    },
    "colab": {
      "provenance": []
    }
  },
  "nbformat": 4,
  "nbformat_minor": 5
}